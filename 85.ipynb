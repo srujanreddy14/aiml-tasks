{
 "cells": [
  {
   "cell_type": "code",
   "execution_count": 3,
   "id": "4e29f913-90aa-44a7-ba07-4c2fc78480e4",
   "metadata": {},
   "outputs": [
    {
     "name": "stdout",
     "output_type": "stream",
     "text": [
      "even\n"
     ]
    }
   ],
   "source": [
    "num = 6\n",
    "if num %2 == 0:\n",
    "    print(\"even\")\n",
    "else:\n",
    "    print(\"odd\")"
   ]
  },
  {
   "cell_type": "code",
   "execution_count": 14,
   "id": "76a0e299-6c93-4f35-bbbc-e589c44a4c5e",
   "metadata": {},
   "outputs": [
    {
     "name": "stdout",
     "output_type": "stream",
     "text": [
      "even\n"
     ]
    }
   ],
   "source": [
    "print(\"even\") if num %2 == 0 else print(\"odd\")"
   ]
  },
  {
   "cell_type": "code",
   "execution_count": 16,
   "id": "ca01d2e8-05b5-423a-a012-315ca59f0371",
   "metadata": {},
   "outputs": [
    {
     "name": "stdout",
     "output_type": "stream",
     "text": [
      "Positive\n"
     ]
    }
   ],
   "source": [
    "x = 10\n",
    "result = \"Positive\" if x > 0 else \"Negative\"\n",
    "print(result)"
   ]
  },
  {
   "cell_type": "code",
   "execution_count": 18,
   "id": "4eadf062-f2fe-4560-8eb7-b3ae016e9d14",
   "metadata": {},
   "outputs": [
    {
     "name": "stdin",
     "output_type": "stream",
     "text": [
      "Enter a number:  -500\n"
     ]
    },
    {
     "name": "stdout",
     "output_type": "stream",
     "text": [
      "Negative\n"
     ]
    }
   ],
   "source": [
    "num = int(input(\"Enter a number: \"))\n",
    "result = \"Positive\" if num > 0 else (\"Negative\" if num < 0 else \"Zero\")\n",
    "print(result)"
   ]
  },
  {
   "cell_type": "code",
   "execution_count": 20,
   "id": "bd1d0fc1-99d4-4ed4-b934-ce571967eadb",
   "metadata": {},
   "outputs": [
    {
     "name": "stdin",
     "output_type": "stream",
     "text": [
      "Enter a number:  0\n"
     ]
    },
    {
     "name": "stdout",
     "output_type": "stream",
     "text": [
      "Zero\n"
     ]
    }
   ],
   "source": [
    "num = int(input(\"Enter a number: \"))\n",
    "result = \"Positive\" if num > 0 else (\"Negative\" if num < 0 else \"Zero\")\n",
    "print(result)"
   ]
  },
  {
   "cell_type": "code",
   "execution_count": 24,
   "id": "d841a92d-14d5-4b13-bc2a-e84216c0aa45",
   "metadata": {},
   "outputs": [
    {
     "data": {
      "text/plain": [
       "[3, 27, 6, 30, 168, 267]"
      ]
     },
     "execution_count": 24,
     "metadata": {},
     "output_type": "execute_result"
    }
   ],
   "source": [
    "L = [1,9,2,10,56,89]\n",
    "[3*x for x in L]"
   ]
  },
  {
   "cell_type": "code",
   "execution_count": 26,
   "id": "f71a07a9-503c-4257-bc11-06f121a818ab",
   "metadata": {},
   "outputs": [
    {
     "data": {
      "text/plain": [
       "[2, 10, 56]"
      ]
     },
     "execution_count": 26,
     "metadata": {},
     "output_type": "execute_result"
    }
   ],
   "source": [
    "L = [1,9,2,10,56,89]\n",
    "[x for x in L if x%2 == 0]"
   ]
  },
  {
   "cell_type": "code",
   "execution_count": 32,
   "id": "eb1599d0-28ee-42ed-b096-9f185394feab",
   "metadata": {},
   "outputs": [
    {
     "data": {
      "text/plain": [
       "[1, 9, 89]"
      ]
     },
     "execution_count": 32,
     "metadata": {},
     "output_type": "execute_result"
    }
   ],
   "source": [
    "L = [1,9,2,10,56,89]\n",
    "[x for x in L if x%2 != 0]"
   ]
  },
  {
   "cell_type": "code",
   "execution_count": 34,
   "id": "e827b77d-f65f-4193-be46-71c663219da2",
   "metadata": {},
   "outputs": [
    {
     "name": "stdout",
     "output_type": "stream",
     "text": [
      "[40000, 50000, 60000, 70000]\n"
     ]
    }
   ],
   "source": [
    "sal = [40000,50000,60000,70000]\n",
    "print(sal)"
   ]
  },
  {
   "cell_type": "code",
   "execution_count": 46,
   "id": "63afc3e3-eeaa-488d-9793-293afad92062",
   "metadata": {},
   "outputs": [
    {
     "name": "stdout",
     "output_type": "stream",
     "text": [
      "[40000, 50000, 60000, 70000, [80000], 80000, 80000, 80000]\n"
     ]
    }
   ],
   "source": [
    "sal.append(80000)\n",
    "print(sal)"
   ]
  },
  {
   "cell_type": "code",
   "execution_count": 52,
   "id": "fba3df6e-d1d9-4ca0-9225-345c8490774f",
   "metadata": {},
   "outputs": [
    {
     "data": {
      "text/plain": [
       "[48000.0, 60000.0, 72000.0, 70000]"
      ]
     },
     "execution_count": 52,
     "metadata": {},
     "output_type": "execute_result"
    }
   ],
   "source": [
    "sal = [40000,50000,60000,70000]\n",
    "[(x*1.2 if x <= 60000 else x) for x in sal]"
   ]
  },
  {
   "cell_type": "code",
   "execution_count": 56,
   "id": "c79c4792-26df-4468-95dc-d608229524fd",
   "metadata": {},
   "outputs": [
    {
     "name": "stdout",
     "output_type": "stream",
     "text": [
      "[40000, 50000, 60000, 70000, 90000]\n"
     ]
    }
   ],
   "source": [
    "sal.append(90000)\n",
    "print(sal)"
   ]
  },
  {
   "cell_type": "code",
   "execution_count": 58,
   "id": "d33aacb5-42fb-4672-8928-d805ca3b3652",
   "metadata": {},
   "outputs": [
    {
     "name": "stdout",
     "output_type": "stream",
     "text": [
      "{'Ram': [70, 71, 98, 100], 'John': [56, 98, 67, 65]}\n"
     ]
    }
   ],
   "source": [
    "d1 = {'Ram':[70,71,98,100], 'John':[56,98,67,65]}\n",
    "print(d1)"
   ]
  },
  {
   "cell_type": "code",
   "execution_count": 64,
   "id": "e622f183-c462-43d6-a91a-abaa5a25f74c",
   "metadata": {},
   "outputs": [
    {
     "data": {
      "text/plain": [
       "{'Ram': 84.75, 'John': 71.5}"
      ]
     },
     "execution_count": 64,
     "metadata": {},
     "output_type": "execute_result"
    }
   ],
   "source": [
    "{k:sum(v)/len(v) for k,v in d1.items()}"
   ]
  },
  {
   "cell_type": "code",
   "execution_count": 66,
   "id": "74e62491-4917-4f7e-b142-068cfbd62e8e",
   "metadata": {},
   "outputs": [],
   "source": [
    " def mean_value(given_list):\n",
    "     total = sum(given_list)\n",
    "     average_value = total/len(given_list)\n",
    "     return average_value"
   ]
  },
  {
   "cell_type": "code",
   "execution_count": 68,
   "id": "73bc8a52-0f20-49ab-998e-f0a6673f2d03",
   "metadata": {},
   "outputs": [
    {
     "data": {
      "text/plain": [
       "5.5"
      ]
     },
     "execution_count": 68,
     "metadata": {},
     "output_type": "execute_result"
    }
   ],
   "source": [
    "L = {1,2,3,4,5,6,7,8,9,10}\n",
    "mean_value(L)"
   ]
  },
  {
   "cell_type": "code",
   "execution_count": 70,
   "id": "5e36a820-7c86-423c-8393-501d503046bb",
   "metadata": {},
   "outputs": [
    {
     "name": "stdout",
     "output_type": "stream",
     "text": [
      "Good Morning Srujan\n"
     ]
    }
   ],
   "source": [
    "a = (\"Good Morning Srujan\")\n",
    "print(a)"
   ]
  },
  {
   "cell_type": "code",
   "execution_count": 72,
   "id": "939cd86d-859d-4104-b97f-dfe4040eea82",
   "metadata": {},
   "outputs": [],
   "source": [
    "  def avg_value(*n):\n",
    "      l = len(n)\n",
    "      average = sum(n)/1\n",
    "      return average"
   ]
  },
  {
   "cell_type": "code",
   "execution_count": 76,
   "id": "0a335af5-85fa-4233-ab3b-7a093f155d15",
   "metadata": {},
   "outputs": [
    {
     "data": {
      "text/plain": [
       "390.0"
      ]
     },
     "execution_count": 76,
     "metadata": {},
     "output_type": "execute_result"
    }
   ],
   "source": [
    "avg_value(10,20,60,100,200)"
   ]
  },
  {
   "cell_type": "code",
   "execution_count": null,
   "id": "26403b17-6ba4-470a-952c-abe9c75feae4",
   "metadata": {},
   "outputs": [],
   "source": []
  }
 ],
 "metadata": {
  "kernelspec": {
   "display_name": "Python [conda env:base] *",
   "language": "python",
   "name": "conda-base-py"
  },
  "language_info": {
   "codemirror_mode": {
    "name": "ipython",
    "version": 3
   },
   "file_extension": ".py",
   "mimetype": "text/x-python",
   "name": "python",
   "nbconvert_exporter": "python",
   "pygments_lexer": "ipython3",
   "version": "3.12.7"
  }
 },
 "nbformat": 4,
 "nbformat_minor": 5
}
