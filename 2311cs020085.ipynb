{
 "cells": [
  {
   "cell_type": "code",
   "execution_count": 22,
   "id": "a9163970-8dc6-4a3a-8c27-0d5fc8e60c6b",
   "metadata": {},
   "outputs": [
    {
     "name": "stdout",
     "output_type": "stream",
     "text": [
      "[['banana', 10], ['apple', 5], ['cherry', 8]]\n"
     ]
    }
   ],
   "source": [
    "a = [['banana', 10], ['apple',5], ['cherry',4]]\n",
    "for each in a:\n",
    "    if each[0] == \"cherry\":\n",
    "        each[1] = 8\n",
    "print(a)"
   ]
  },
  {
   "cell_type": "code",
   "execution_count": 44,
   "id": "c45842a5-44e1-43c6-b92a-aa8b99831164",
   "metadata": {},
   "outputs": [
    {
     "name": "stdout",
     "output_type": "stream",
     "text": [
      "[['banana', 10], ['apple', 5], ['cherry', 4], ['grapes', 15]]\n"
     ]
    }
   ],
   "source": [
    "a = [['banana', 10], ['apple',5], ['cherry',4]]\n",
    "a.append(['grapes', 15])\n",
    "print(a)"
   ]
  },
  {
   "cell_type": "code",
   "execution_count": 45,
   "id": "61f0c9b7-e57b-4f35-8263-e6fff45c3998",
   "metadata": {},
   "outputs": [
    {
     "name": "stdout",
     "output_type": "stream",
     "text": [
      "[5]\n",
      "5\n"
     ]
    }
   ],
   "source": [
    "total = []\n",
    "for each_item in a:aa\n",
    "    if each_item[0] == \"apple\":\n",
    "        total.append(each_item[1])\n",
    "print(total)\n",
    "print(sum(total))        "
   ]
  },
  {
   "cell_type": "code",
   "execution_count": 46,
   "id": "d67dd317-9105-4a39-b47e-39f69fbb56da",
   "metadata": {},
   "outputs": [
    {
     "name": "stdout",
     "output_type": "stream",
     "text": [
      "[['banana', 10], ['apple', 5], ['cherry', 4], ['grapes', 15], ['papaya', 23]]\n"
     ]
    }
   ],
   "source": [
    "a.append(['papaya', 23])\n",
    "print(a)"
   ]
  },
  {
   "cell_type": "code",
   "execution_count": 48,
   "id": "6232869c-808d-41f1-83c4-e20cb83a02a7",
   "metadata": {},
   "outputs": [
    {
     "name": "stdout",
     "output_type": "stream",
     "text": [
      "(3, 4, 9, 'A', 5.2)\n",
      "('Hello', 5, 10, 20)\n",
      "[1, 2, 5, 7.5]\n"
     ]
    }
   ],
   "source": [
    "Tuple1 = (3, 4, 9, 'A', 5.2)\n",
    "Tuple2 = 'Hello', 5, 10, 20\n",
    "Tuple3 = ([1,2,5,7.5])\n",
    "print(Tuple1)\n",
    "print(Tuple2)\n",
    "print(Tuple3)"
   ]
  },
  {
   "cell_type": "code",
   "execution_count": 67,
   "id": "d7621e93-0047-429b-a0ac-9ee61406c995",
   "metadata": {},
   "outputs": [
    {
     "data": {
      "text/plain": [
       "0"
      ]
     },
     "execution_count": 67,
     "metadata": {},
     "output_type": "execute_result"
    }
   ],
   "source": [
    "tup2 = (10,20,1,10,10,30,10)\n",
    "tup2.count(0)"
   ]
  },
  {
   "cell_type": "markdown",
   "id": "7631cbe2-e13b-4a06-abb0-f129eb31a875",
   "metadata": {},
   "source": [
    "d2 = dict(A=10, B=20, C=30)\n",
    "print(d2)"
   ]
  },
  {
   "cell_type": "code",
   "execution_count": 68,
   "id": "3ee21e45-ed6b-4a53-8e48-03c6d2b64c1b",
   "metadata": {},
   "outputs": [
    {
     "name": "stdout",
     "output_type": "stream",
     "text": [
      "{'x': 1, 'y': 2, 'z': 3}\n"
     ]
    }
   ],
   "source": [
    "d3 = dict([(\"x\", 1), (\"y\", 2), (\"z\", 3)])\n",
    "print(d3)"
   ]
  },
  {
   "cell_type": "code",
   "execution_count": 7,
   "id": "2cfb855e-703a-4731-b403-56b6b85f1ed4",
   "metadata": {},
   "outputs": [],
   "source": [
    "scores = {'virat':90,\n",
    "          'rohit':100,\n",
    "          'hardik':23,\n",
    "          'gill':56,\n",
    "          'jadeja':78,\n",
    "          'siraj':34}"
   ]
  },
  {
   "cell_type": "code",
   "execution_count": 23,
   "id": "2bfdf0e7-dd13-4669-8121-62493675df2b",
   "metadata": {},
   "outputs": [
    {
     "data": {
      "text/plain": [
       "{'virat': 90,\n",
       " 'rohit': 100,\n",
       " 'hardik': 23,\n",
       " 'gill': 56,\n",
       " 'jadeja': 78,\n",
       " 'siraj': 34,\n",
       " 'Jadeja': 100}"
      ]
     },
     "execution_count": 23,
     "metadata": {},
     "output_type": "execute_result"
    }
   ],
   "source": [
    "scores.update({\"Jadeja\":100})\n",
    "scores"
   ]
  },
  {
   "cell_type": "code",
   "execution_count": 1,
   "id": "7dc7caec-63cf-489d-9959-694605744b83",
   "metadata": {},
   "outputs": [
    {
     "name": "stdout",
     "output_type": "stream",
     "text": [
      "{0, 1, 8, 9, 10}\n"
     ]
    }
   ],
   "source": [
    "s1 = {1,8,9,0,10,9,0,1,9}\n",
    "print(s1)"
   ]
  },
  {
   "cell_type": "code",
   "execution_count": 11,
   "id": "2ad25bfe-e65f-47f5-92ed-5f2a7509bcb6",
   "metadata": {},
   "outputs": [],
   "source": [
    "s1 = {1,2,3}\n",
    "s2 = {3,4,5}"
   ]
  },
  {
   "cell_type": "markdown",
   "id": "5021d4e1-f585-4cce-bc88-2185523dbef2",
   "metadata": {},
   "source": [
    "s1 & s2"
   ]
  },
  {
   "cell_type": "code",
   "execution_count": null,
   "id": "837f4b54-c69c-40f4-9b01-f1906837aa65",
   "metadata": {},
   "outputs": [],
   "source": [
    "s1 = {2, 3, 5, 6, 7}\n",
    "s2 = {5, 6, 7}\n"
   ]
  },
  {
   "cell_type": "code",
   "execution_count": 12,
   "id": "8f8df781-f1a5-432b-a0a3-f474620e1381",
   "metadata": {},
   "outputs": [
    {
     "data": {
      "text/plain": [
       "{1, 2}"
      ]
     },
     "execution_count": 12,
     "metadata": {},
     "output_type": "execute_result"
    }
   ],
   "source": [
    "s1 - s2"
   ]
  },
  {
   "cell_type": "code",
   "execution_count": 13,
   "id": "856f611d-78fb-429d-872e-bf4db15ff015",
   "metadata": {},
   "outputs": [
    {
     "data": {
      "text/plain": [
       "True"
      ]
     },
     "execution_count": 13,
     "metadata": {},
     "output_type": "execute_result"
    }
   ],
   "source": [
    "s1 = {1,2,3,4,5}\n",
    "s2 = {1,2,3}\n",
    "s2.issubset(s1)"
   ]
  },
  {
   "cell_type": "code",
   "execution_count": 14,
   "id": "1b19b560-8ed7-4657-a925-5e6c3e91c151",
   "metadata": {},
   "outputs": [
    {
     "data": {
      "text/plain": [
       "False"
      ]
     },
     "execution_count": 14,
     "metadata": {},
     "output_type": "execute_result"
    }
   ],
   "source": [
    "s2.issuperset(s1)"
   ]
  },
  {
   "cell_type": "code",
   "execution_count": null,
   "id": "31ac63a6-9a10-4b2a-bff6-2fec4a4d751a",
   "metadata": {},
   "outputs": [],
   "source": []
  }
 ],
 "metadata": {
  "kernelspec": {
   "display_name": "Python [conda env:base] *",
   "language": "python",
   "name": "conda-base-py"
  },
  "language_info": {
   "codemirror_mode": {
    "name": "ipython",
    "version": 3
   },
   "file_extension": ".py",
   "mimetype": "text/x-python",
   "name": "python",
   "nbconvert_exporter": "python",
   "pygments_lexer": "ipython3",
   "version": "3.12.7"
  }
 },
 "nbformat": 4,
 "nbformat_minor": 5
}
